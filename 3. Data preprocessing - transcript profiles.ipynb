{
 "cells": [
  {
   "cell_type": "markdown",
   "metadata": {},
   "source": [
    "# 3. Data preprocessing - transcript metaprofiles\n",
    "\n",
    "The initial data preprocessing steps calculate relevant data and organizes them in a format that is easy for later analysis: tab- and comma-separated files compatible with the DataFrame format (\"\\_main.df\" and \"\\_profile.df\"). These may be easily read by either R or Python (using the Pandas package).\n",
    "\n",
    "This data preprocessing step collates transcript metaprofile related data for downstream analyses.\n",
    "\n",
    "These include: ribosome metaprofiles over transcript CDS starts and ends, trinucleotide bias over 5' leaders, and uORF distribution over 5' leaders."
   ]
  },
  {
   "cell_type": "markdown",
   "metadata": {},
   "source": [
    "## Dataset"
   ]
  },
  {
   "cell_type": "markdown",
   "metadata": {},
   "source": [
    "Mouse ES cell data from Ingolia et al. 2011 as the examplar for data preprocessing and downstream analyses. The stage and assembly parameters may be changed to preprocess and analyze HeLa cell (Human - GRCh37) and Shield stage (Zebrafish - Zv9) data."
   ]
  },
  {
   "cell_type": "code",
   "execution_count": null,
   "metadata": {
    "collapsed": false
   },
   "outputs": [],
   "source": [
    "s = \"mm\"\n",
    "stage = \"mES\"\n",
    "ASSEMBLY = \"GRCm38_ens\"\n",
    "\n",
    "# s = \"dr\"\n",
    "# stage = \"Shield\"\n",
    "# ASSEMBLY = \"Zv9_ens\"\n",
    "\n",
    "# s = \"hs\"\n",
    "# stage = \"HeLa\"\n",
    "# ASSEMBLY = \"GRCh37_ens\""
   ]
  },
  {
   "cell_type": "code",
   "execution_count": null,
   "metadata": {
    "collapsed": true
   },
   "outputs": [],
   "source": [
    "DATA_DIR = \"./data/\"\n",
    "ANNOTATIONS_DIR = \"./annotations/\"\n",
    "FOLDED_DIR = \"./folded/\"\n",
    "TO_FOLD_DIR = \"./to_fold/\""
   ]
  },
  {
   "cell_type": "markdown",
   "metadata": {},
   "source": [
    "## Imports and parameters"
   ]
  },
  {
   "cell_type": "code",
   "execution_count": null,
   "metadata": {
    "collapsed": false
   },
   "outputs": [],
   "source": [
    "# IMPORTS\n",
    "import pandas as pd\n",
    "import numpy as np\n",
    "\n",
    "from Bio import SeqIO\n",
    "from numpy import log1p, log2\n",
    "from ast import literal_eval\n",
    "from pandas import Series, DataFrame\n",
    "from random import sample"
   ]
  },
  {
   "cell_type": "code",
   "execution_count": null,
   "metadata": {
    "collapsed": false
   },
   "outputs": [],
   "source": [
    "# FILENAME PARAMETERS\n",
    "TRPEDF_FILE = DATA_DIR + s + \"/\" + stage + \"_canonical.trpedf\"\n",
    "CONVERTERS = {i:literal_eval for i in (\"ORF_starts\", \"ORF_ends\", \"RPF_csvProfile\", \"CDS\")}\n",
    "\n",
    "FASTA_FILE = ANNOTATIONS_DIR + ASSEMBLY + \"_genes_canonical.fasta\"\n",
    "SEQS = SeqIO.index(FASTA_FILE, \"fasta\")"
   ]
  },
  {
   "cell_type": "code",
   "execution_count": null,
   "metadata": {
    "collapsed": false
   },
   "outputs": [],
   "source": [
    "# OTHER PARAMETERS\n",
    "UTR5_LENGTH_MIN = 12\n",
    "FPKM_MIN = 0.1\n",
    "\n",
    "CDS_LENGTH_MIN = 120\n",
    "UTR_LENGTH_MIN = 60\n",
    "ORF_END_TRIM = 10"
   ]
  },
  {
   "cell_type": "markdown",
   "metadata": {},
   "source": [
    "## Trinucleotide biases and ribosome profiling metaprofiles\n",
    "DataFrames for storing nucleotide and tri-nucleotide frequency (for calculation of trinucleotide biases), as well as DataFrames for ribosome profiling transcript metaprofile around CDSes are initialized here."
   ]
  },
  {
   "cell_type": "code",
   "execution_count": null,
   "metadata": {
    "collapsed": false
   },
   "outputs": [],
   "source": [
    "trints = [nt1+nt2+nt3 for nt1 in \"ATCG\" for nt2 in \"ATCG\" for nt3 in \"ATCG\"]\n",
    "nt_freq = DataFrame(index=[nt for nt in 'ATCG'], columns=range(-200, 0)).fillna(0.)\n",
    "trint_freq = DataFrame(index=trints, columns=range(-200, -2)).fillna(0.)\n",
    "\n",
    "dict_rpf_profile = {\"CDS_norm_start_reads\": Series(index=np.arange(-UTR_LENGTH_MIN, CDS_LENGTH_MIN)).fillna(0.),\n",
    "                    \"CDS_norm_end_reads\"  : Series(index=np.arange(-CDS_LENGTH_MIN, UTR_LENGTH_MIN)).fillna(0.)}"
   ]
  },
  {
   "cell_type": "markdown",
   "metadata": {},
   "source": [
    "TRPEDF file is read line-by-line, filtering for transcripts expressed above a minimum (defined in parameters).\n",
    "\n",
    "First part reads in data, determines which ORFs are uORFs.\n",
    "\n",
    "Second part processes data for trinucleotide bias calculations over 5' leaders.\n",
    "\n",
    "Third part processes data for ribosome profiling metaprofile."
   ]
  },
  {
   "cell_type": "code",
   "execution_count": null,
   "metadata": {
    "collapsed": false
   },
   "outputs": [],
   "source": [
    "trpedf_file_iterator = pd.read_table(TRPEDF_FILE, converters=CONVERTERS, chunksize=1)\n",
    "\n",
    "for transcript in trpedf_file_iterator:\n",
    "    \n",
    "    # Read in data, determine uORFs\n",
    "    expression = transcript[\"Gene_Expression_FPKM\"][0]\n",
    "    if expression < FPKM_MIN: continue                 # filter for FPKM minimum\n",
    "    \n",
    "    seq = SEQS[transcript[\"Transcript\"][0]].seq        # get transcript sequence\n",
    "    RPF_csvProfile = transcript[\"RPF_csvProfile\"][0]\n",
    "    CDS = transcript[\"CDS\"][0]\n",
    "\n",
    "    ORF_starts = transcript[\"ORF_starts\"][0]           \n",
    "    ORF_ends = transcript[\"ORF_ends\"][0]\n",
    "    if type(ORF_starts) is np.int64:                   # corrects for single-entry\n",
    "        ORF_starts = (ORF_starts,)\n",
    "        ORF_ends = (ORF_ends,)\n",
    "    ORFs = zip(ORF_starts, ORF_ends)                   # zips starts and stops into ORF\n",
    "    uORFs = [ORF for ORF in ORFs if (ORF[0] < CDS[0])] # uORFs defined as beginning before CDS\n",
    "\n",
    "    # Tri-nucleotide bias\n",
    "    leader_seq = str(seq[:CDS[0]][-200:])\n",
    "    for pos, nt in zip(range(-len(leader_seq), 0), leader_seq):\n",
    "        if nt not in \"ATCG\": continue\n",
    "        nt_freq[pos][nt] += 1\n",
    "        \n",
    "    for pos, trint in zip(range(-len(leader_seq), -2),\n",
    "                          [leader_seq[i:i+3] for i in range(len(leader_seq)-2)]):\n",
    "        if trint not in trints: continue\n",
    "        trint_freq[pos][trint] += 1\n",
    "    \n",
    "    \n",
    "    # Ribosome profiling metaprofile over CDS start and ends\n",
    "    if ((CDS[1] - CDS[0]) > CDS_LENGTH_MIN + ORF_END_TRIM\n",
    "        and CDS[0] >= UTR_LENGTH_MIN and len(RPF_csvProfile) - CDS[1] >= UTR_LENGTH_MIN\n",
    "        and sum(RPF_csvProfile[CDS[0]: CDS[0] + CDS_LENGTH_MIN] \\\n",
    "                + RPF_csvProfile[CDS[1] - CDS_LENGTH_MIN: CDS[1]]) > 100):\n",
    "        \n",
    "        norm = np.mean(RPF_csvProfile[CDS[0]: CDS[0] + CDS_LENGTH_MIN] + \\\n",
    "                       RPF_csvProfile[CDS[1] - CDS_LENGTH_MIN: CDS[1]])\n",
    "        \n",
    "        start_coord = (CDS[0] - UTR_LENGTH_MIN, CDS[0] + CDS_LENGTH_MIN)\n",
    "        end_coord = (CDS[1] - CDS_LENGTH_MIN, CDS[1] + UTR_LENGTH_MIN)\n",
    "        norm_start_reads = np.array(RPF_csvProfile[start_coord[0]: start_coord[1]]) / norm\n",
    "        norm_end_reads = np.array(RPF_csvProfile[end_coord[0]: end_coord[1]]) / norm\n",
    "\n",
    "        dict_rpf_profile[\"CDS_norm_start_reads\"] += log1p(norm_start_reads)\n",
    "        dict_rpf_profile[\"CDS_norm_end_reads\"] += log1p(norm_end_reads)"
   ]
  },
  {
   "cell_type": "markdown",
   "metadata": {},
   "source": [
    "Nucleotide and trinucleotide frequency data are outputted to .df files.\n",
    "\n",
    "Ribosome profiling metaprofiles are normalized by CDS median read frequencies, also outputted to .df files."
   ]
  },
  {
   "cell_type": "code",
   "execution_count": null,
   "metadata": {
    "collapsed": false
   },
   "outputs": [],
   "source": [
    "trint_freq.to_csv(DATA_DIR + s + \"/\" + stage + \"_trint_freq.df\", sep=\"\\t\")\n",
    "nt_freq.to_csv(DATA_DIR + s + \"/\" + stage + \"_nt_freq.df\", sep=\"\\t\")\n",
    "\n",
    "df_profile = DataFrame(dict_rpf_profile)\n",
    "df_profile /= df_profile.CDS_norm_end_reads.median()\n",
    "df_profile.to_csv(DATA_DIR + s + \"/\" + stage + \"_profile.df\", sep=\"\\t\")"
   ]
  },
  {
   "cell_type": "markdown",
   "metadata": {},
   "source": [
    "## uORF end distribution around CDS\n",
    "The following code determines the frequency of uORF ends observed in transcriptomes and compares it against a background distribution where the 5' leaders are shuffled and reattached to their cognate transcripts."
   ]
  },
  {
   "cell_type": "markdown",
   "metadata": {},
   "source": [
    "Functions are needed for shuffled-sequence analyses: redefining ORFs and shuffling sequences."
   ]
  },
  {
   "cell_type": "code",
   "execution_count": null,
   "metadata": {
    "collapsed": false
   },
   "outputs": [],
   "source": [
    "def def_ORFs(seq):\n",
    "    ORFs = []\n",
    "    seq_len = len(seq)\n",
    "    for frame in xrange(3):\n",
    "        trans = str(seq[frame:].translate(11))\n",
    "        trans_len = len(trans)\n",
    "        aa_start, aa_end = [0 for i in xrange(2)]\n",
    "        while aa_start < trans_len:\n",
    "            aa_start = trans.find(\"M\", aa_start)\n",
    "            if aa_start == -1:\n",
    "                break\n",
    "            aa_end = trans.find(\"*\", aa_start)\n",
    "            ORF_start = frame + aa_start * 3\n",
    "            ORF_end = frame + aa_end * 3 + 3\n",
    "            if aa_end == -1:\n",
    "                ORF_end = seq_len\n",
    "                aa_end = trans_len\n",
    "            ORFs.append((ORF_start, ORF_end))\n",
    "            aa_start = aa_start + 1\n",
    "        ORFs.sort()\n",
    "    return ORFs\n",
    "\n",
    "def shuffle(seq):\n",
    "    return \"\".join(sample(seq, len(seq)))"
   ]
  },
  {
   "cell_type": "markdown",
   "metadata": {},
   "source": [
    "Creating Series containers for frequency of uORF ends observed, vs expected (from shuffled 5' leaders)."
   ]
  },
  {
   "cell_type": "code",
   "execution_count": null,
   "metadata": {
    "collapsed": false
   },
   "outputs": [],
   "source": [
    "uORF_ends_obs = Series(index=np.arange(-200, 101)).fillna(0.)\n",
    "uORF_ends_exp = Series(index=np.arange(-200, 101)).fillna(0.)\n",
    "\n",
    "LOOPS = 100"
   ]
  },
  {
   "cell_type": "markdown",
   "metadata": {},
   "source": [
    ".trpedf file is read, uORF end positions are noted, and 5' leader is shuffled multiple times, with uORF end positions noted. Frequencies of uORF ends around the 5' leader are outputted to .df files."
   ]
  },
  {
   "cell_type": "code",
   "execution_count": null,
   "metadata": {
    "collapsed": false
   },
   "outputs": [],
   "source": [
    "trpedf_file_iterator = pd.read_table(TRPEDF_FILE, converters=CONVERTERS, chunksize=1)\n",
    "\n",
    "for transcript in trpedf_file_iterator:\n",
    "    expression = transcript[\"Gene_Expression_FPKM\"][0]\n",
    "    if expression < FPKM_MIN: continue\n",
    "    seq = SEQS[transcript[\"Transcript\"][0]].seq\n",
    "    CDS = transcript[\"CDS\"][0]\n",
    "    if CDS[0] <= UTR5_LENGTH_MIN: continue\n",
    "          \n",
    "    ORF_positions = def_ORFs(seq[:CDS[0]+100])\n",
    "    uORF_ends = list(set([ORF[1] - CDS[0] for ORF in ORF_positions \\\n",
    "                          if (ORF[0] < CDS[0] and ORF[1] - CDS[0] >= -200)]))\n",
    "    for i in uORF_ends: uORF_ends_obs[i] += 1\n",
    "\n",
    "    for loop in xrange(LOOPS):\n",
    "        shuffled_UTR5 = shuffle(seq[:CDS[0]])\n",
    "        ORF_positions = def_ORFs(shuffled_UTR5 + seq[CDS[0]:CDS[0] + 100])\n",
    "        uORF_ends = list(set([ORF[1] - CDS[0] for ORF in ORF_positions \\\n",
    "                              if (ORF[0] < CDS[0] and ORF[1] - CDS[0] >= -200)]))\n",
    "        for i in uORF_ends: uORF_ends_exp[i] += 1"
   ]
  },
  {
   "cell_type": "code",
   "execution_count": null,
   "metadata": {
    "collapsed": false
   },
   "outputs": [],
   "source": [
    "DataFrame({\"uORF_ends_obs\": uORF_ends_obs,\n",
    "           \"uORF_ends_exp\": uORF_ends_exp}).to_csv(DATA_DIR + s + \"/\" + stage + \"_uORF_ends.df\", sep=\"\\t\")"
   ]
  }
 ],
 "metadata": {
  "kernelspec": {
   "display_name": "Python 2",
   "language": "python",
   "name": "python2"
  },
  "language_info": {
   "codemirror_mode": {
    "name": "ipython",
    "version": 2
   },
   "file_extension": ".py",
   "mimetype": "text/x-python",
   "name": "python",
   "nbconvert_exporter": "python",
   "pygments_lexer": "ipython2",
   "version": "2.7.11"
  }
 },
 "nbformat": 4,
 "nbformat_minor": 0
}
